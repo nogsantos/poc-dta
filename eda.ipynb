{
 "cells": [
  {
   "cell_type": "markdown",
   "metadata": {},
   "source": [
    "# Estudo sobre análise de dados exploratória - EDA\n",
    "\n",
    "- Fonte de dados: [consumidor.gov.br](https://www.consumidor.gov.br/pages/principal/?1589037000187)\n",
    "- Para análise: [Indicadores](https://www.consumidor.gov.br/pages/dadosabertos/externo/)\n"
   ]
  },
  {
   "cell_type": "code",
   "execution_count": null,
   "metadata": {},
   "outputs": [],
   "source": [
    "import pandas as pd\n",
    "%matplotlib inline\n",
    "%pylab inline\n",
    "\n",
    "import seaborn as sns"
   ]
  },
  {
   "cell_type": "code",
   "execution_count": null,
   "metadata": {},
   "outputs": [],
   "source": [
    "data = './data/2020-04.csv'\n",
    "\n",
    "dataset = pd.read_csv(data,sep=';',encoding='latin1')\n",
    "dataset.info()"
   ]
  },
  {
   "cell_type": "code",
   "execution_count": null,
   "metadata": {},
   "outputs": [],
   "source": [
    "dataset.columns"
   ]
  },
  {
   "cell_type": "code",
   "execution_count": null,
   "metadata": {},
   "outputs": [],
   "source": [
    "dataset.head()"
   ]
  },
  {
   "cell_type": "markdown",
   "metadata": {},
   "source": [
    "## Hipóteses"
   ]
  },
  {
   "cell_type": "markdown",
   "metadata": {},
   "source": [
    "### Existe uma predominância de sexo nas reclamações?"
   ]
  },
  {
   "cell_type": "code",
   "execution_count": null,
   "metadata": {},
   "outputs": [],
   "source": [
    "slices = dataset[u'Sexo'].value_counts()\n",
    "slices"
   ]
  },
  {
   "cell_type": "code",
   "execution_count": null,
   "metadata": {
    "scrolled": true
   },
   "outputs": [],
   "source": [
    "_, sex = plt.subplots()\n",
    "sex.pie(\n",
    "    slices, \n",
    "    explode=(0, 0.009), \n",
    "    labels=['Masculino', 'Feminino'], \n",
    "    autopct='%1.1f%%\\n',\n",
    "    startangle=90,\n",
    ")\n",
    "sex.axis('equal')\n",
    "plt.show()"
   ]
  },
  {
   "cell_type": "markdown",
   "metadata": {},
   "source": [
    "### Das reclamações, qual quantitativo das avaliações?"
   ]
  },
  {
   "cell_type": "code",
   "execution_count": null,
   "metadata": {},
   "outputs": [],
   "source": [
    "dataset[u'Avaliação Reclamação'].value_counts()\n",
    "# dataset.groupby(u'Sexo')[u'Avaliação Reclamação'].value_counts()\n",
    "# dataset.groupby(u'Avaliação Reclamação').mean()\n",
    "# dataset[u'Avaliação Reclamação'].array.unique()"
   ]
  },
  {
   "cell_type": "code",
   "execution_count": null,
   "metadata": {},
   "outputs": [],
   "source": [
    "fig, ax = plt.subplots(figsize=(10, 5), subplot_kw=dict(aspect=\"equal\"))\n",
    "\n",
    "data = dataset[u'Avaliação Reclamação'].value_counts()\n",
    "labels = dataset[u'Avaliação Reclamação'].array.unique()\n",
    "\n",
    "def func(pct, allvals):\n",
    "    absolute = int(pct/100.*np.sum(allvals))\n",
    "    return \"{:.1f}%\\n({:d})\".format(pct, absolute)\n",
    "\n",
    "\n",
    "wedges, texts, autotexts = ax.pie(\n",
    "    data, \n",
    "    autopct=lambda pct: func(pct, data),\n",
    "    textprops=dict(color=\"w\")\n",
    ")\n",
    "\n",
    "ax.legend(\n",
    "    wedges, \n",
    "    labels,\n",
    "    title=\"Avaliações\",\n",
    "    loc=\"center left\",\n",
    "    bbox_to_anchor=(1, 0, 0.5, 1)\n",
    ")\n",
    "\n",
    "plt.setp(autotexts, size=12, weight=\"bold\")\n",
    "\n",
    "ax.set_title(\"Quantitativo das avaliações\")\n",
    "\n",
    "plt.show()"
   ]
  },
  {
   "cell_type": "markdown",
   "metadata": {},
   "source": [
    "### Qual a faixa etária média dos consumidores?"
   ]
  },
  {
   "cell_type": "code",
   "execution_count": null,
   "metadata": {},
   "outputs": [],
   "source": [
    "dataset.groupby(u'Sexo')[u'Faixa Etária'].value_counts()"
   ]
  },
  {
   "cell_type": "markdown",
   "metadata": {},
   "source": [
    "### Qual o grupo de problema mais comum?"
   ]
  },
  {
   "cell_type": "code",
   "execution_count": null,
   "metadata": {},
   "outputs": [],
   "source": [
    "dataset[u'Grupo Problema'].value_counts()"
   ]
  },
  {
   "cell_type": "code",
   "execution_count": null,
   "metadata": {},
   "outputs": [],
   "source": [
    "fig, ax = plt.subplots(figsize=(20, 10), subplot_kw=dict(aspect=\"equal\"))\n",
    "\n",
    "data = dataset[u'Grupo Problema'].value_counts()\n",
    "labels = dataset[u'Grupo Problema'].array.unique()\n",
    "\n",
    "\n",
    "def legend(percent, all_values):\n",
    "    absolute = int(percent/100.*np.sum(all_values))\n",
    "    return f\"{absolute:d} ({percent:.1f}%)\"\n",
    "\n",
    "\n",
    "wedges, texts, autotexts = ax.pie(\n",
    "    data, \n",
    "    autopct=lambda percent: legend(percent, data),\n",
    "    textprops=dict(color=\"w\")\n",
    ")\n",
    "\n",
    "ax.legend(\n",
    "    wedges, \n",
    "    labels,\n",
    "    title=\"Problema\",\n",
    "    loc=\"center left\",\n",
    "    bbox_to_anchor=(1, 0, 0.5, 1)\n",
    ")\n",
    "\n",
    "plt.setp(autotexts, size=12, weight=\"bold\")\n",
    "\n",
    "ax.set_title(\"Por grupo de problemas\")\n",
    "\n",
    "plt.show()"
   ]
  },
  {
   "cell_type": "markdown",
   "metadata": {},
   "source": [
    "### Qual o segmento de mercado mais afetado?"
   ]
  },
  {
   "cell_type": "code",
   "execution_count": null,
   "metadata": {
    "scrolled": false
   },
   "outputs": [],
   "source": [
    "is_cobranca_contestacao = dataset[u'Grupo Problema'] == u'Cobrança / Contestação'\n",
    "segmento = dataset[is_cobranca_contestacao]\n",
    "segmento['Segmento de Mercado'].value_counts()"
   ]
  },
  {
   "cell_type": "code",
   "execution_count": null,
   "metadata": {},
   "outputs": [],
   "source": [
    "nome_fantasia = segmento[u'Nome Fantasia']\n",
    "\n",
    "fig, ax = plt.subplots()\n",
    "\n",
    "y_pos = np.arange(len(nome_fantasia.value_counts()[:20]))\n",
    "values = nome_fantasia.value_counts()[:20]\n",
    "segmentos = nome_fantasia.unique()[:20]\n",
    "\n",
    "ax.barh(y_pos, values, align='center', color='black')\n",
    "ax.set_yticks(y_pos)\n",
    "ax.set_yticklabels(segmentos)\n",
    "ax.invert_yaxis()\n",
    "\n",
    "ax.set_xlabel('Reclamações')\n",
    "ax.set_title('Rank de Empresas')\n",
    "ax.grid()\n",
    "\n",
    "fig.set_size_inches(18.5, 10.5, forward=False)\n",
    "plt.rcParams.update({'font.size': 15})\n",
    "\n",
    "plt.show()"
   ]
  },
  {
   "cell_type": "markdown",
   "metadata": {},
   "source": [
    "### Existe alguma correlação entre o tempo de resposta e a nota do consumidor?\n",
    "\n",
    "\n",
    "Para tentar validar essa suposição, utilizar o Coeficiente de Correlação de Pearson.\n",
    "\n",
    "A técnica basicamente mede o grau de correlação e sua direção entre duas variáveis de escala métrica.\n",
    "\n",
    "O coeficiente assume valores entre -1  e 1 onde o valor 1 indica uma correlação perfeitamente positiva entre as duas variáveis, -1 indica uma correlação perfeitamente negativa e o valor 0 representa que não existe correlação linear entre as variáveis.\n",
    "\n",
    "Voltando para o nosso contexto, uma correlação negativa alta com valores entre -0.7 a -0.9 pode indicar que quanto menor o tempo de resposta maior a nota atribuída à empresa pelo consumidor.\n",
    "\n",
    "Levando em consideração a existência de uma correlação negativa o valor do tempo de resposta deve diminuir e a nota do consumidor aumentar."
   ]
  },
  {
   "cell_type": "code",
   "execution_count": null,
   "metadata": {},
   "outputs": [],
   "source": [
    "f, ax = plt.subplots(figsize=(10, 7))\n",
    "\n",
    "corr_dataset = dataset\n",
    "\n",
    "corr_dataset = corr_dataset.drop('Total',axis=1) # Exclui a coluna Total da base de dados\n",
    "\n",
    "print(corr_dataset.median())\n",
    "\n",
    "'''\n",
    "Definindo a correlação entre as variáveis: \n",
    " - O método corr do pandas faz o cálculo de correlação entre as variáveis numéricas em todo o dataframe.\n",
    "'''\n",
    "corr = corr_dataset.corr()\n",
    "\n",
    "sns.heatmap(\n",
    "    corr, \n",
    "    mask=np.zeros_like(corr, dtype=np.bool), \n",
    "    cmap=sns.diverging_palette(10, 10, as_cmap=True), \n",
    "    square=True, \n",
    "    ax=ax\n",
    ")\n",
    "print(corr)"
   ]
  },
  {
   "cell_type": "markdown",
   "metadata": {},
   "source": [
    "### Qual a proporção de reclamações registradas e que não são resolvidas?"
   ]
  },
  {
   "cell_type": "code",
   "execution_count": null,
   "metadata": {},
   "outputs": [],
   "source": [
    "# Separa e agrupa por segmento\n",
    "x = dataset.groupby(u'Segmento de Mercado')[u'Segmento de Mercado'].count()\n",
    "\n",
    "#Filtrando os segmentos de mercado com mais de 20 reclamações\n",
    "reclamacoes = x[x > 20]\n",
    "\n",
    "# Filtra novamente os dados especificando apenas os segmentos selecionados e armazenados em x\n",
    "# isin() permite filtrar um atributo a apenas aos valores igual aos valores passados por parâmetro.\n",
    "df = dataset[dataset[u'Segmento de Mercado'].isin(reclamacoes.keys())]\n",
    "\n",
    "# Das reclamações, soma as não resolvidas\n",
    "nao_resolvidas = df[df[u'Avaliação Reclamação']==u'Não Resolvida']\n",
    "reclamacoes_nao_resolvidas = nao_resolvidas.groupby(u'Segmento de Mercado')[u'Segmento de Mercado'].count()\n",
    "\n",
    "# Das reclamações, soma as resolvidas\n",
    "resolvidas = df[df[u'Avaliação Reclamação']==u'Resolvida']\n",
    "reclamacoes_resolvidas = resolvidas.groupby(u'Segmento de Mercado')[u'Segmento de Mercado'].count()\n",
    "\n",
    "# Das reclamações, soma as resolvidas\n",
    "nao_avaliadas = df[df[u'Avaliação Reclamação']==u'Não Avaliada']\n",
    "reclamacoes_nao_avaliadas = nao_avaliadas.groupby(u'Segmento de Mercado')[u'Segmento de Mercado'].count()"
   ]
  },
  {
   "cell_type": "code",
   "execution_count": null,
   "metadata": {},
   "outputs": [],
   "source": [
    "sns.set(style=\"whitegrid\")\n",
    "sns.set_color_codes(\"pastel\")\n",
    "\n",
    "f, ax = plt.subplots(figsize=(8, 10))\n",
    "\n",
    "sns.barplot(\n",
    "    x=reclamacoes.values, \n",
    "    y=reclamacoes.keys(), \n",
    "    label=\"Total de reclamações\", \n",
    "    color=\"b\"\n",
    ")\n",
    "\n",
    "\n",
    "sns.barplot(\n",
    "    x=reclamacoes_nao_avaliadas.values, \n",
    "    y=reclamacoes_nao_avaliadas.keys(),\n",
    "    label=\"Não avaliadas\", \n",
    "    color=\"#E7E84C\"\n",
    ")\n",
    "\n",
    "\n",
    "# sns.barplot(\n",
    "#     x=x1.values, \n",
    "#     y=x1.keys(),\n",
    "#     label=\"Não resolvidas\", \n",
    "#     color=\"#F25116\"\n",
    "# )\n",
    "\n",
    "# sns.barplot(\n",
    "#     x=x2.values, \n",
    "#     y=x2.keys(),\n",
    "#     label=\"Resolvidas\", \n",
    "#     color=\"#027368\"\n",
    "# )\n",
    "\n",
    "ax.legend(ncol=2, loc=\"best\", frameon=True)\n",
    "ax.set(ylabel=\"\", xlabel=\"Reclamações e suas situações\")\n",
    "\n",
    "sns.despine(left=False, bottom=True)"
   ]
  },
  {
   "cell_type": "code",
   "execution_count": null,
   "metadata": {},
   "outputs": [],
   "source": [
    "# set width of bar\n",
    "barWidth = 0.25\n",
    " \n",
    "# set height of bar\n",
    "# bars1 = [12, 30, 1, 8, 22]\n",
    "# bars2 = [28, 6, 16, 5, 10]\n",
    "# bars3 = [29, 3, 24, 25, 17]\n",
    " \n",
    "# # Set position of bar on X axis\n",
    "r1 = np.arange(len(bars1))\n",
    "r2 = [x + barWidth for x in r1]\n",
    "r3 = [x + barWidth for x in r2]\n",
    " \n",
    "# Make the plot\n",
    "\n",
    "plt.bar(x.values, x.keys(), color='#7f6d5f', width=barWidth, edgecolor='white', label='var1')\n",
    "plt.bar(x1.values, x1.keys(), color='#7f6d5f', width=barWidth, edgecolor='white', label='var1')\n",
    "plt.bar(x2.values, x2.keys(), color='#7f6d5f', width=barWidth, edgecolor='white', label='var2')\n",
    "plt.bar(x3.values, x3.keys(), color='#7f6d5f', width=barWidth, edgecolor='white', label='var3')\n",
    " \n",
    "# Add xticks on the middle of the group bars\n",
    "plt.xlabel('group', fontweight='bold')\n",
    "plt.xticks([r + barWidth for r in range(len(x.keys()))], x.keys())\n",
    " \n",
    "# Create legend & Show graphic\n",
    "plt.legend()\n",
    "plt.show()"
   ]
  },
  {
   "cell_type": "code",
   "execution_count": null,
   "metadata": {},
   "outputs": [],
   "source": [
    "# index = reclamacoes.keys()\n",
    "\n",
    "# df = pd.DataFrame({\n",
    "#         'total': reclamacoes.values,\n",
    "#         'resolvidas': reclamacoes_resolvidas.values,\n",
    "#         'nao_resolvidas': reclamacoes_nao_resolvidas.values,\n",
    "#         'nao_avaliadas': reclamacoes_nao_avaliadas.values,\n",
    "#     }, \n",
    "#     index=index\n",
    "# )\n",
    "\n",
    "\n",
    "\n",
    "# df.plot.barh()\n",
    "\n",
    "##########################################################################################################\n",
    "\n",
    "index = reclamacoes.keys()\n",
    "\n",
    "df = pd.DataFrame(\n",
    "    dict(\n",
    "        graph=reclamacoes.keys(),\n",
    "        total=reclamacoes.values,\n",
    "        resolvidas=reclamacoes_resolvidas.values,\n",
    "        nao_resolvidas=reclamacoes_nao_resolvidas.values,\n",
    "        nao_avaliadas=reclamacoes_nao_avaliadas.values,\n",
    "    )\n",
    ") \n",
    "\n",
    "# df = pd.DataFrame({\n",
    "#         'total': reclamacoes.values,\n",
    "#         'resolvidas': reclamacoes_resolvidas.values,\n",
    "#         'nao_resolvidas': reclamacoes_nao_resolvidas.values,\n",
    "#         'nao_avaliadas': reclamacoes_nao_avaliadas.values,\n",
    "#     }, \n",
    "#     index=index\n",
    "# )\n",
    "\n",
    "ind = np.arange(len(df))\n",
    "width = 0.4\n",
    "\n",
    "fig, ax = plt.subplots(\n",
    "    figsize=(20,40)\n",
    ")\n",
    "\n",
    "ax.barh(ind, df.total, width, color='blue', label='Total')\n",
    "ax.barh(ind + width, df.resolvidas, width, color='green', label='resolvidas')\n",
    "\n",
    "# ax.barh(ind + width, df.nao_resolvidas, width, color='red', label='nao_resolvidas')\n",
    "# ax.barh(ind + width, df.nao_avaliadas, width, color='yellow', label='nao_avalidas')\n",
    "\n",
    "ax.set(yticks=ind + width, yticklabels=df.graph, ylim=[2*width - 1, len(df)])\n",
    "ax.legend()\n",
    "\n",
    "plt.xlabel('xlabel', fontsize=20)\n",
    "plt.ylabel('ylabel', fontsize=25)\n",
    "\n",
    "plt.show()"
   ]
  }
 ],
 "metadata": {
  "kernelspec": {
   "display_name": "Python 3",
   "language": "python",
   "name": "python3"
  },
  "language_info": {
   "codemirror_mode": {
    "name": "ipython",
    "version": 3
   },
   "file_extension": ".py",
   "mimetype": "text/x-python",
   "name": "python",
   "nbconvert_exporter": "python",
   "pygments_lexer": "ipython3",
   "version": "3.7.4"
  }
 },
 "nbformat": 4,
 "nbformat_minor": 4
}
