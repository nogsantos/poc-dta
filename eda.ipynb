{
 "cells": [
  {
   "cell_type": "markdown",
   "metadata": {},
   "source": [
    "# Estudo sobre análise de dados exploratória - EDA\n",
    "\n",
    "- Fonte de dados: [consumidor.gov.br](https://www.consumidor.gov.br/pages/principal/?1589037000187)\n",
    "- Para análise: [Indicadores](https://www.consumidor.gov.br/pages/dadosabertos/externo/)\n"
   ]
  },
  {
   "cell_type": "code",
   "execution_count": 505,
   "metadata": {},
   "outputs": [
    {
     "name": "stdout",
     "output_type": "stream",
     "text": [
      "Populating the interactive namespace from numpy and matplotlib\n"
     ]
    }
   ],
   "source": [
    "import pandas as pd\n",
    "%matplotlib inline\n",
    "%pylab inline\n",
    "\n",
    "import seaborn as sns"
   ]
  },
  {
   "cell_type": "code",
   "execution_count": 506,
   "metadata": {},
   "outputs": [
    {
     "name": "stdout",
     "output_type": "stream",
     "text": [
      "<class 'pandas.core.frame.DataFrame'>\n",
      "RangeIndex: 89779 entries, 0 to 89778\n",
      "Data columns (total 20 columns):\n",
      " #   Column                  Non-Null Count  Dtype  \n",
      "---  ------                  --------------  -----  \n",
      " 0   Região                  89779 non-null  object \n",
      " 1   UF                      89779 non-null  object \n",
      " 2   Cidade                  89779 non-null  object \n",
      " 3   Sexo                    89779 non-null  object \n",
      " 4   Faixa Etária            89779 non-null  object \n",
      " 5   Data Finalização        89779 non-null  object \n",
      " 6   Tempo Resposta          89008 non-null  float64\n",
      " 7   Nome Fantasia           89779 non-null  object \n",
      " 8   Segmento de Mercado     89779 non-null  object \n",
      " 9   Área                    89779 non-null  object \n",
      " 10  Assunto                 89779 non-null  object \n",
      " 11  Grupo Problema          89779 non-null  object \n",
      " 12  Problema                89779 non-null  object \n",
      " 13  Como Comprou Contratou  89779 non-null  object \n",
      " 14  Procurou Empresa        89779 non-null  object \n",
      " 15  Respondida              89779 non-null  object \n",
      " 16  Situação                89779 non-null  object \n",
      " 17  Avaliação Reclamação    89779 non-null  object \n",
      " 18  Nota do Consumidor      49630 non-null  float64\n",
      " 19  Total                   89779 non-null  int64  \n",
      "dtypes: float64(2), int64(1), object(17)\n",
      "memory usage: 13.7+ MB\n"
     ]
    }
   ],
   "source": [
    "data = './data/2020-04.csv'\n",
    "\n",
    "dataset = pd.read_csv(data,sep=';',encoding='latin1')\n",
    "dataset.info()"
   ]
  },
  {
   "cell_type": "code",
   "execution_count": null,
   "metadata": {},
   "outputs": [],
   "source": [
    "dataset.columns"
   ]
  },
  {
   "cell_type": "code",
   "execution_count": null,
   "metadata": {},
   "outputs": [],
   "source": [
    "dataset.head()"
   ]
  },
  {
   "cell_type": "markdown",
   "metadata": {},
   "source": [
    "## Hipóteses"
   ]
  },
  {
   "cell_type": "markdown",
   "metadata": {},
   "source": [
    "### Existe uma predominância de sexo nas reclamações?"
   ]
  },
  {
   "cell_type": "code",
   "execution_count": null,
   "metadata": {},
   "outputs": [],
   "source": [
    "slices = dataset[u'Sexo'].value_counts()\n",
    "slices"
   ]
  },
  {
   "cell_type": "code",
   "execution_count": null,
   "metadata": {
    "scrolled": true
   },
   "outputs": [],
   "source": [
    "_, sex = plt.subplots()\n",
    "sex.pie(\n",
    "    slices, \n",
    "    explode=(0, 0.009), \n",
    "    labels=['Masculino', 'Feminino'], \n",
    "    autopct='%1.1f%%\\n',\n",
    "    startangle=90,\n",
    ")\n",
    "sex.axis('equal')\n",
    "plt.show()"
   ]
  },
  {
   "cell_type": "markdown",
   "metadata": {},
   "source": [
    "### Das reclamações, qual quantitativo das avaliações?"
   ]
  },
  {
   "cell_type": "code",
   "execution_count": null,
   "metadata": {},
   "outputs": [],
   "source": [
    "dataset[u'Avaliação Reclamação'].value_counts()\n",
    "# dataset.groupby(u'Sexo')[u'Avaliação Reclamação'].value_counts()\n",
    "# dataset.groupby(u'Avaliação Reclamação').mean()\n",
    "# dataset[u'Avaliação Reclamação'].array.unique()"
   ]
  },
  {
   "cell_type": "code",
   "execution_count": null,
   "metadata": {},
   "outputs": [],
   "source": [
    "fig, ax = plt.subplots(figsize=(10, 5), subplot_kw=dict(aspect=\"equal\"))\n",
    "\n",
    "data = dataset[u'Avaliação Reclamação'].value_counts()\n",
    "labels = dataset[u'Avaliação Reclamação'].array.unique()\n",
    "\n",
    "def func(pct, allvals):\n",
    "    absolute = int(pct/100.*np.sum(allvals))\n",
    "    return \"{:.1f}%\\n({:d})\".format(pct, absolute)\n",
    "\n",
    "\n",
    "wedges, texts, autotexts = ax.pie(\n",
    "    data, \n",
    "    autopct=lambda pct: func(pct, data),\n",
    "    textprops=dict(color=\"w\")\n",
    ")\n",
    "\n",
    "ax.legend(\n",
    "    wedges, \n",
    "    labels,\n",
    "    title=\"Avaliações\",\n",
    "    loc=\"center left\",\n",
    "    bbox_to_anchor=(1, 0, 0.5, 1)\n",
    ")\n",
    "\n",
    "plt.setp(autotexts, size=12, weight=\"bold\")\n",
    "\n",
    "ax.set_title(\"Quantitativo das avaliações\")\n",
    "\n",
    "plt.show()"
   ]
  },
  {
   "cell_type": "markdown",
   "metadata": {},
   "source": [
    "### Qual a faixa etária média dos consumidores?"
   ]
  },
  {
   "cell_type": "code",
   "execution_count": null,
   "metadata": {},
   "outputs": [],
   "source": [
    "dataset.groupby(u'Sexo')[u'Faixa Etária'].value_counts()"
   ]
  },
  {
   "cell_type": "markdown",
   "metadata": {},
   "source": [
    "### Qual o grupo de problema mais comum?"
   ]
  },
  {
   "cell_type": "code",
   "execution_count": null,
   "metadata": {},
   "outputs": [],
   "source": [
    "dataset[u'Grupo Problema'].value_counts()"
   ]
  },
  {
   "cell_type": "code",
   "execution_count": null,
   "metadata": {},
   "outputs": [],
   "source": [
    "fig, ax = plt.subplots(figsize=(20, 10), subplot_kw=dict(aspect=\"equal\"))\n",
    "\n",
    "data = dataset[u'Grupo Problema'].value_counts()\n",
    "labels = dataset[u'Grupo Problema'].array.unique()\n",
    "\n",
    "\n",
    "def legend(percent, all_values):\n",
    "    absolute = int(percent/100.*np.sum(all_values))\n",
    "    return f\"{absolute:d} ({percent:.1f}%)\"\n",
    "\n",
    "\n",
    "wedges, texts, autotexts = ax.pie(\n",
    "    data, \n",
    "    autopct=lambda percent: legend(percent, data),\n",
    "    textprops=dict(color=\"w\")\n",
    ")\n",
    "\n",
    "ax.legend(\n",
    "    wedges, \n",
    "    labels,\n",
    "    title=\"Problema\",\n",
    "    loc=\"center left\",\n",
    "    bbox_to_anchor=(1, 0, 0.5, 1)\n",
    ")\n",
    "\n",
    "plt.setp(autotexts, size=12, weight=\"bold\")\n",
    "\n",
    "ax.set_title(\"Por grupo de problemas\")\n",
    "\n",
    "plt.show()"
   ]
  },
  {
   "cell_type": "markdown",
   "metadata": {},
   "source": [
    "### Qual o segmento de mercado mais afetado?"
   ]
  },
  {
   "cell_type": "code",
   "execution_count": null,
   "metadata": {
    "scrolled": false
   },
   "outputs": [],
   "source": [
    "is_cobranca_contestacao = dataset[u'Grupo Problema'] == u'Cobrança / Contestação'\n",
    "segmento = dataset[is_cobranca_contestacao]\n",
    "segmento['Segmento de Mercado'].value_counts()"
   ]
  },
  {
   "cell_type": "code",
   "execution_count": null,
   "metadata": {},
   "outputs": [],
   "source": [
    "nome_fantasia = segmento[u'Nome Fantasia']\n",
    "\n",
    "fig, ax = plt.subplots()\n",
    "\n",
    "y_pos = np.arange(len(nome_fantasia.value_counts()[:20]))\n",
    "values = nome_fantasia.value_counts()[:20]\n",
    "segmentos = nome_fantasia.unique()[:20]\n",
    "\n",
    "ax.barh(y_pos, values, align='center', color='black')\n",
    "ax.set_yticks(y_pos)\n",
    "ax.set_yticklabels(segmentos)\n",
    "ax.invert_yaxis()\n",
    "\n",
    "ax.set_xlabel('Reclamações')\n",
    "ax.set_title('Rank de Empresas')\n",
    "ax.grid()\n",
    "\n",
    "fig.set_size_inches(18.5, 10.5, forward=False)\n",
    "plt.rcParams.update({'font.size': 15})\n",
    "\n",
    "plt.show()"
   ]
  },
  {
   "cell_type": "markdown",
   "metadata": {},
   "source": [
    "### Existe alguma correlação entre o tempo de resposta e a nota do consumidor?\n",
    "\n",
    "\n",
    "Para tentar validar essa suposição, utilizar o Coeficiente de Correlação de Pearson.\n",
    "\n",
    "A técnica basicamente mede o grau de correlação e sua direção entre duas variáveis de escala métrica.\n",
    "\n",
    "O coeficiente assume valores entre -1  e 1 onde o valor 1 indica uma correlação perfeitamente positiva entre as duas variáveis, -1 indica uma correlação perfeitamente negativa e o valor 0 representa que não existe correlação linear entre as variáveis.\n",
    "\n",
    "Voltando para o nosso contexto, uma correlação negativa alta com valores entre -0.7 a -0.9 pode indicar que quanto menor o tempo de resposta maior a nota atribuída à empresa pelo consumidor.\n",
    "\n",
    "Levando em consideração a existência de uma correlação negativa o valor do tempo de resposta deve diminuir e a nota do consumidor aumentar."
   ]
  },
  {
   "cell_type": "code",
   "execution_count": null,
   "metadata": {},
   "outputs": [],
   "source": [
    "f, ax = plt.subplots(figsize=(10, 7))\n",
    "\n",
    "corr_dataset = dataset\n",
    "\n",
    "corr_dataset = corr_dataset.drop('Total',axis=1) # Exclui a coluna Total da base de dados\n",
    "\n",
    "print(corr_dataset.median())\n",
    "\n",
    "'''\n",
    "Definindo a correlação entre as variáveis: \n",
    " - O método corr do pandas faz o cálculo de correlação entre as variáveis numéricas em todo o dataframe.\n",
    "'''\n",
    "corr = corr_dataset.corr()\n",
    "\n",
    "sns.heatmap(\n",
    "    corr, \n",
    "    mask=np.zeros_like(corr, dtype=np.bool), \n",
    "    cmap=sns.diverging_palette(10, 10, as_cmap=True), \n",
    "    square=True, \n",
    "    ax=ax\n",
    ")\n",
    "print(corr)"
   ]
  },
  {
   "cell_type": "markdown",
   "metadata": {},
   "source": [
    "### Qual a proporção de reclamações registradas e que não são resolvidas?"
   ]
  },
  {
   "cell_type": "code",
   "execution_count": null,
   "metadata": {},
   "outputs": [],
   "source": [
    "# Separa e agrupa por segmento\n",
    "x = dataset.groupby(u'Segmento de Mercado')[u'Segmento de Mercado'].count()\n",
    "\n",
    "#Filtrando os segmentos de mercado com mais de 20 reclamações\n",
    "reclamacoes = x[x > 20]\n",
    "\n",
    "# Filtra novamente os dados especificando apenas os segmentos selecionados e armazenados em x\n",
    "# isin() permite filtrar um atributo a apenas aos valores igual aos valores passados por parâmetro.\n",
    "df = dataset[dataset[u'Segmento de Mercado'].isin(reclamacoes.keys())]\n",
    "\n",
    "# Das reclamações, soma as não resolvidas\n",
    "nao_resolvidas = df[df[u'Avaliação Reclamação']==u'Não Resolvida']\n",
    "reclamacoes_nao_resolvidas = nao_resolvidas.groupby(u'Segmento de Mercado')[u'Segmento de Mercado'].count()\n",
    "\n",
    "# Das reclamações, soma as resolvidas\n",
    "resolvidas = df[df[u'Avaliação Reclamação']==u'Resolvida']\n",
    "reclamacoes_resolvidas = resolvidas.groupby(u'Segmento de Mercado')[u'Segmento de Mercado'].count()\n",
    "\n",
    "# Das reclamações, soma as resolvidas\n",
    "nao_avaliadas = df[df[u'Avaliação Reclamação']==u'Não Avaliada']\n",
    "reclamacoes_nao_avaliadas = nao_avaliadas.groupby(u'Segmento de Mercado')[u'Segmento de Mercado'].count()"
   ]
  },
  {
   "cell_type": "code",
   "execution_count": null,
   "metadata": {},
   "outputs": [],
   "source": [
    "sns.set(style=\"whitegrid\")\n",
    "sns.set_color_codes(\"pastel\")\n",
    "\n",
    "f, ax = plt.subplots(figsize=(8, 10))\n",
    "\n",
    "sns.barplot(\n",
    "    x=reclamacoes.values, \n",
    "    y=reclamacoes.keys(), \n",
    "    label=\"Total de reclamações\", \n",
    "    color=\"b\"\n",
    ")\n",
    "\n",
    "\n",
    "sns.barplot(\n",
    "    x=reclamacoes_nao_avaliadas.values, \n",
    "    y=reclamacoes_nao_avaliadas.keys(),\n",
    "    label=\"Não avaliadas\", \n",
    "    color=\"#E7E84C\"\n",
    ")\n",
    "\n",
    "\n",
    "# sns.barplot(\n",
    "#     x=x1.values, \n",
    "#     y=x1.keys(),\n",
    "#     label=\"Não resolvidas\", \n",
    "#     color=\"#F25116\"\n",
    "# )\n",
    "\n",
    "# sns.barplot(\n",
    "#     x=x2.values, \n",
    "#     y=x2.keys(),\n",
    "#     label=\"Resolvidas\", \n",
    "#     color=\"#027368\"\n",
    "# )\n",
    "\n",
    "ax.legend(ncol=2, loc=\"best\", frameon=True)\n",
    "ax.set(ylabel=\"\", xlabel=\"Reclamações e suas situações\")\n",
    "\n",
    "sns.despine(left=False, bottom=True)"
   ]
  },
  {
   "cell_type": "code",
   "execution_count": null,
   "metadata": {},
   "outputs": [],
   "source": [
    "# set width of bar\n",
    "barWidth = 0.25\n",
    " \n",
    "# set height of bar\n",
    "# bars1 = [12, 30, 1, 8, 22]\n",
    "# bars2 = [28, 6, 16, 5, 10]\n",
    "# bars3 = [29, 3, 24, 25, 17]\n",
    " \n",
    "# # Set position of bar on X axis\n",
    "r1 = np.arange(len(bars1))\n",
    "r2 = [x + barWidth for x in r1]\n",
    "r3 = [x + barWidth for x in r2]\n",
    " \n",
    "# Make the plot\n",
    "\n",
    "plt.bar(x.values, x.keys(), color='#7f6d5f', width=barWidth, edgecolor='white', label='var1')\n",
    "plt.bar(x1.values, x1.keys(), color='#7f6d5f', width=barWidth, edgecolor='white', label='var1')\n",
    "plt.bar(x2.values, x2.keys(), color='#7f6d5f', width=barWidth, edgecolor='white', label='var2')\n",
    "plt.bar(x3.values, x3.keys(), color='#7f6d5f', width=barWidth, edgecolor='white', label='var3')\n",
    " \n",
    "# Add xticks on the middle of the group bars\n",
    "plt.xlabel('group', fontweight='bold')\n",
    "plt.xticks([r + barWidth for r in range(len(x.keys()))], x.keys())\n",
    " \n",
    "# Create legend & Show graphic\n",
    "plt.legend()\n",
    "plt.show()"
   ]
  },
  {
   "cell_type": "code",
   "execution_count": 552,
   "metadata": {},
   "outputs": [
    {
     "name": "stdout",
     "output_type": "stream",
     "text": [
      "[ 0  1  2  3  4  5  6  7  8  9 10 11 12 13 14 15 16 17 18 19 20 21 22 23\n",
      " 24 25 26 27 28 29 30] [ 1.  2.  3.  4.  5.  6.  7.  8.  9. 10. 11. 12. 13. 14. 15. 16. 17. 18.\n",
      " 19. 20. 21. 22. 23. 24. 25. 26. 27. 28. 29. 30. 31.]\n"
     ]
    },
    {
     "data": {
      "image/png": "[encoded data removed]",
      "text/plain": [
       "<Figure size 720x1440 with 1 Axes>"
      ]
     },
     "metadata": {
      "needs_background": "light"
     },
     "output_type": "display_data"
    }
   ],
   "source": [
    "# index = reclamacoes.keys()\n",
    "\n",
    "# df = pd.DataFrame({\n",
    "#         'total': reclamacoes.values,\n",
    "#         'resolvidas': reclamacoes_resolvidas.values,\n",
    "#         'nao_resolvidas': reclamacoes_nao_resolvidas.values,\n",
    "#         'nao_avaliadas': reclamacoes_nao_avaliadas.values,\n",
    "#     }, \n",
    "#     index=index\n",
    "# )\n",
    "\n",
    "\n",
    "\n",
    "# df.plot.barh()\n",
    "\n",
    "##########################################################################################################\n",
    "\n",
    "index = reclamacoes.keys()\n",
    "\n",
    "df = pd.DataFrame(\n",
    "    dict(\n",
    "        graph=reclamacoes.keys(),\n",
    "        total=reclamacoes.values,\n",
    "        resolvidas=reclamacoes_resolvidas.values,\n",
    "        nao_resolvidas=reclamacoes_nao_resolvidas.values,\n",
    "        nao_avaliadas=reclamacoes_nao_avaliadas.values,\n",
    "    )\n",
    ") \n",
    "\n",
    "# df = pd.DataFrame({\n",
    "#         'total': reclamacoes.values,\n",
    "#         'resolvidas': reclamacoes_resolvidas.values,\n",
    "#         'nao_resolvidas': reclamacoes_nao_resolvidas.values,\n",
    "#         'nao_avaliadas': reclamacoes_nao_avaliadas.values,\n",
    "#     }, \n",
    "#     index=index\n",
    "# )\n",
    "\n",
    "ind = np.arange(len(df))\n",
    "heigth = 0.5\n",
    "\n",
    "fig, ax = plt.subplots(\n",
    "    figsize=(10, 20)\n",
    ")\n",
    "\n",
    "print(ind ,ind + (heigth * 2))\n",
    "\n",
    "ax.barh(ind, df.total, heigth, color='blue', label='Total')\n",
    "ax.barh(ind + heigth, df.resolvidas, heigth, color='green', label='Resolvidas')\n",
    "# ax.barh(ind + (heigth * 2), df.nao_resolvidas, heigth, color='red', label='Não Resolvidas')\n",
    "# ax.barh(ind + (heigth * 2), df.nao_avaliadas, heigth, color='yellow', label='Não Avaliadas')\n",
    "\n",
    "ax.set(\n",
    "    yticks=ind + heigth, \n",
    "    yticklabels=df.graph, \n",
    "    ylim=[2*heigth - 1, len(df)]\n",
    ")\n",
    "ax.legend()\n",
    "\n",
    "plt.show()"
   ]
  },
  {
   "cell_type": "markdown",
   "metadata": {},
   "source": [
    "### As reclamações são distribuídas em todo Brasil, ou existe uma maior concentração em determinadas regiões?"
   ]
  },
  {
   "cell_type": "code",
   "execution_count": 555,
   "metadata": {},
   "outputs": [
    {
     "name": "stdout",
     "output_type": "stream",
     "text": [
      "<class 'pandas.core.frame.DataFrame'>\n",
      "RangeIndex: 5509 entries, 0 to 5508\n",
      "Data columns (total 7 columns):\n",
      " #   Column     Non-Null Count  Dtype  \n",
      "---  ------     --------------  -----  \n",
      " 0   ID         5509 non-null   int64  \n",
      " 1   LATITUDE   5509 non-null   object \n",
      " 2   LONGITUDE  5509 non-null   float64\n",
      " 3   Mun/UF     5509 non-null   object \n",
      " 4   MUNICIPIO  5509 non-null   object \n",
      " 5   UF         5509 non-null   object \n",
      " 6   Valor      5509 non-null   float64\n",
      "dtypes: float64(2), int64(1), object(4)\n",
      "memory usage: 301.4+ KB\n"
     ]
    }
   ],
   "source": [
    "municipios = pd.read_excel('./data/brasil_municipios.xls', encoding='latin1')\n",
    "municipios.info()"
   ]
  },
  {
   "cell_type": "code",
   "execution_count": 557,
   "metadata": {},
   "outputs": [
    {
     "data": {
      "text/html": [
       "<div>\n",
       "<style scoped>\n",
       "    .dataframe tbody tr th:only-of-type {\n",
       "        vertical-align: middle;\n",
       "    }\n",
       "\n",
       "    .dataframe tbody tr th {\n",
       "        vertical-align: top;\n",
       "    }\n",
       "\n",
       "    .dataframe thead th {\n",
       "        text-align: right;\n",
       "    }\n",
       "</style>\n",
       "<table border=\"1\" class=\"dataframe\">\n",
       "  <thead>\n",
       "    <tr style=\"text-align: right;\">\n",
       "      <th></th>\n",
       "      <th>ID</th>\n",
       "      <th>LATITUDE</th>\n",
       "      <th>LONGITUDE</th>\n",
       "      <th>Mun/UF</th>\n",
       "      <th>MUNICIPIO</th>\n",
       "      <th>UF</th>\n",
       "      <th>Valor</th>\n",
       "    </tr>\n",
       "  </thead>\n",
       "  <tbody>\n",
       "    <tr>\n",
       "      <th>0</th>\n",
       "      <td>1</td>\n",
       "      <td>LATITUDE</td>\n",
       "      <td>-66.88</td>\n",
       "      <td>Mun/UF</td>\n",
       "      <td>ACRELANDIA</td>\n",
       "      <td>AC</td>\n",
       "      <td>39560.038911</td>\n",
       "    </tr>\n",
       "    <tr>\n",
       "      <th>1</th>\n",
       "      <td>2</td>\n",
       "      <td>-10.94</td>\n",
       "      <td>-69.56</td>\n",
       "      <td>ASSIS BRASIL - AC</td>\n",
       "      <td>ASSIS BRASIL</td>\n",
       "      <td>AC</td>\n",
       "      <td>17842.150989</td>\n",
       "    </tr>\n",
       "    <tr>\n",
       "      <th>2</th>\n",
       "      <td>3</td>\n",
       "      <td>-11.01</td>\n",
       "      <td>-68.74</td>\n",
       "      <td>BRASILEIA - AC</td>\n",
       "      <td>BRASILEIA</td>\n",
       "      <td>AC</td>\n",
       "      <td>93373.394313</td>\n",
       "    </tr>\n",
       "    <tr>\n",
       "      <th>3</th>\n",
       "      <td>4</td>\n",
       "      <td>-9.83</td>\n",
       "      <td>-67.95</td>\n",
       "      <td>BUJARI - AC</td>\n",
       "      <td>BUJARI</td>\n",
       "      <td>AC</td>\n",
       "      <td>28516.567493</td>\n",
       "    </tr>\n",
       "    <tr>\n",
       "      <th>4</th>\n",
       "      <td>5</td>\n",
       "      <td>-10.57</td>\n",
       "      <td>-67.67</td>\n",
       "      <td>CAPIXABA - AC</td>\n",
       "      <td>CAPIXABA</td>\n",
       "      <td>AC</td>\n",
       "      <td>18886.455136</td>\n",
       "    </tr>\n",
       "  </tbody>\n",
       "</table>\n",
       "</div>"
      ],
      "text/plain": [
       "   ID  LATITUDE  LONGITUDE             Mun/UF     MUNICIPIO  UF         Valor\n",
       "0   1  LATITUDE     -66.88             Mun/UF    ACRELANDIA  AC  39560.038911\n",
       "1   2    -10.94     -69.56  ASSIS BRASIL - AC  ASSIS BRASIL  AC  17842.150989\n",
       "2   3    -11.01     -68.74     BRASILEIA - AC     BRASILEIA  AC  93373.394313\n",
       "3   4     -9.83     -67.95        BUJARI - AC        BUJARI  AC  28516.567493\n",
       "4   5    -10.57     -67.67      CAPIXABA - AC      CAPIXABA  AC  18886.455136"
      ]
     },
     "execution_count": 557,
     "metadata": {},
     "output_type": "execute_result"
    }
   ],
   "source": [
    "municipios.head()"
   ]
  },
  {
   "cell_type": "code",
   "execution_count": 561,
   "metadata": {},
   "outputs": [
    {
     "data": {
      "text/plain": [
       "MG    853\n",
       "SP    645\n",
       "RS    469\n",
       "BA    415\n",
       "PR    399\n",
       "SC    293\n",
       "GO    242\n",
       "PB    223\n",
       "PI    221\n",
       "MA    217\n",
       "PE    185\n",
       "CE    184\n",
       "RN    166\n",
       "PA    143\n",
       "TO    139\n",
       "MT    126\n",
       "AL    101\n",
       "RJ     91\n",
       "ES     77\n",
       "MS     77\n",
       "SE     75\n",
       "AM     62\n",
       "RO     52\n",
       "AC     22\n",
       "AP     16\n",
       "RR     15\n",
       "DF      1\n",
       "Name: UF, dtype: int64"
      ]
     },
     "execution_count": 561,
     "metadata": {},
     "output_type": "execute_result"
    }
   ],
   "source": [
    "municipios.UF.value_counts()"
   ]
  },
  {
   "cell_type": "code",
   "execution_count": 564,
   "metadata": {},
   "outputs": [
    {
     "data": {
      "text/plain": [
       "0          JUNDIAI\n",
       "1          ITAGUAI\n",
       "2         BRASILIA\n",
       "3         TERESINA\n",
       "4         BRASILIA\n",
       "           ...    \n",
       "89774    SAO PAULO\n",
       "89775    SAO PAULO\n",
       "89776    SAO PAULO\n",
       "89777       SUZANO\n",
       "89778    SAO PAULO\n",
       "Name: Cidade2, Length: 89779, dtype: object"
      ]
     },
     "execution_count": 564,
     "metadata": {},
     "output_type": "execute_result"
    }
   ],
   "source": [
    "import unicodedata\n",
    "import re\n",
    "\n",
    "def remover_acentos(txt):\n",
    "    nfkd = unicodedata.normalize('NFKD', txt)\n",
    "    palavra_sem_acento = u\"\".join([c for c in nfkd if not unicodedata.combining(c)])\n",
    "    # Usa expressão regular para retornar a palavra apenas com números, letras e espaço\n",
    "    palavra_sem_acento = re.sub('[^a-zA-Z0-9 \\\\\\]', '', palavra_sem_acento)\n",
    "    palavra_sem_acento = str(palavra_sem_acento).upper()\n",
    "    return palavra_sem_acento\n",
    "\n",
    "dataset['Cidade2'] = dataset['Cidade'].apply(remover_acentos)\n",
    "\n",
    "dataset['Cidade2']"
   ]
  },
  {
   "cell_type": "code",
   "execution_count": null,
   "metadata": {},
   "outputs": [],
   "source": [
    "import folium\n",
    "from folium import plugins\n",
    "\n",
    "mapa = folium.Map(location=[-15.788497,-47.879873],zoom_start=5,tiles='Stamen Toner')\n",
    "coordenadas=[]\n",
    "\n",
    "for cid,uf in zip(dataset.Cidade2[:20000],dataset.UF[:20000]):\n",
    "    cidadeUf = cid+' - '+uf\n",
    "    lat = municipios[municipios['Mun/UF'] == cidadeUf]['LATITUDE'].values\n",
    "    long = municipios[municipios['Mun/UF'] == cidadeUf]['LONGITUDE'].values\n",
    "    \n",
    "    if lat != '' and long != '':\n",
    "        lat = float(str(lat).replace('[','').replace(']','').replace(' ',','))\n",
    "        long = float(str(long).replace('[','').replace(']','').replace(' ',','))\n",
    "    \n",
    "        coordenadas.append([lat,long])\n",
    "    \n",
    "    mapa.add_child(plugins.HeatMap(coordenadas))\n",
    "\n",
    "mapa"
   ]
  }
 ],
 "metadata": {
  "kernelspec": {
   "display_name": "Python 3",
   "language": "python",
   "name": "python3"
  },
  "language_info": {
   "codemirror_mode": {
    "name": "ipython",
    "version": 3
   },
   "file_extension": ".py",
   "mimetype": "text/x-python",
   "name": "python",
   "nbconvert_exporter": "python",
   "pygments_lexer": "ipython3",
   "version": "3.7.4"
  }
 },
 "nbformat": 4,
 "nbformat_minor": 4
}
